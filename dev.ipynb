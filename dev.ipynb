{
 "cells": [
  {
   "cell_type": "code",
   "execution_count": null,
   "metadata": {},
   "outputs": [],
   "source": [
    "from Historic_Crypto import Cryptocurrencies, HistoricalData\n",
    "import numpy as np\n",
    "import datetime"
   ]
  },
  {
   "cell_type": "markdown",
   "metadata": {},
   "source": [
    "## Find the BTC USD pair"
   ]
  },
  {
   "cell_type": "code",
   "execution_count": null,
   "metadata": {},
   "outputs": [],
   "source": [
    "pairs = Cryptocurrencies().find_crypto_pairs()"
   ]
  },
  {
   "cell_type": "code",
   "execution_count": null,
   "metadata": {},
   "outputs": [],
   "source": [
    "pairs[pairs['id'].str.contains('BTC') * pairs['id'].str.contains('USD')]"
   ]
  },
  {
   "cell_type": "markdown",
   "metadata": {},
   "source": [
    "## Download Small Test Set"
   ]
  },
  {
   "cell_type": "code",
   "execution_count": null,
   "metadata": {},
   "outputs": [],
   "source": [
    "btc_test = HistoricalData(\n",
    "    ticker = \"BTC-USD\",\n",
    "    granularity = (60 * 60 * 24), # 1 hour in seconds\n",
    "    start_date = \"2020-01-01-00-00\",\n",
    "    end_date = \"2020-01-08-00-00\"\n",
    ").retrieve_data()"
   ]
  },
  {
   "cell_type": "code",
   "execution_count": null,
   "metadata": {},
   "outputs": [],
   "source": [
    "btc_test.head()"
   ]
  },
  {
   "cell_type": "markdown",
   "metadata": {},
   "source": [
    "Looks good, ready to download full desired date range."
   ]
  },
  {
   "cell_type": "markdown",
   "metadata": {},
   "source": [
    "## Download Desired Date Range\n",
    "\n",
    "I am most intersted in bear markets since 2017 as I'm looking at best time to DCA buy during bear market conditions."
   ]
  },
  {
   "cell_type": "code",
   "execution_count": null,
   "metadata": {},
   "outputs": [],
   "source": [
    "raw_data =  HistoricalData(\n",
    "        ticker = \"BTC-USD\",\n",
    "        granularity = (60 * 60 * 24), # 1 hour in seconds\n",
    "        start_date = \"2017-01-01-00-00\",\n",
    "        end_date = \"2022-06-25-00-00\"\n",
    "    ).retrieve_data();"
   ]
  },
  {
   "cell_type": "markdown",
   "metadata": {},
   "source": [
    "## Process Data"
   ]
  },
  {
   "cell_type": "code",
   "execution_count": null,
   "metadata": {},
   "outputs": [],
   "source": [
    "raw_data.info()"
   ]
  },
  {
   "cell_type": "markdown",
   "metadata": {},
   "source": [
    "Looks like no missing values in any of the columns which is excellent."
   ]
  },
  {
   "cell_type": "code",
   "execution_count": null,
   "metadata": {},
   "outputs": [],
   "source": [
    "processed_data = raw_data.copy()"
   ]
  },
  {
   "cell_type": "code",
   "execution_count": null,
   "metadata": {},
   "outputs": [],
   "source": [
    "test = processed_data.index.to_list()\n",
    "test0 = test[0]"
   ]
  },
  {
   "cell_type": "code",
   "execution_count": null,
   "metadata": {},
   "outputs": [],
   "source": [
    "test0.day_name()\n",
    "test0.year"
   ]
  },
  {
   "cell_type": "code",
   "execution_count": null,
   "metadata": {},
   "outputs": [],
   "source": [
    "processed_data.dtypes"
   ]
  },
  {
   "cell_type": "code",
   "execution_count": null,
   "metadata": {},
   "outputs": [],
   "source": [
    "processed_data['avg'] = processed_data[['low','high','open','close']].mean(axis=1)\n",
    "processed_data['1w_sma'] = processed_data['close'].rolling(window = 7 ).mean()\n",
    "processed_data['20w_sma'] = processed_data['close'].rolling(window = 7 * 20).mean()\n",
    "processed_data['year'] = [date.year for date in  processed_data.index.to_list()]\n",
    "processed_data['market'] = np.where(processed_data['1w_sma'] < processed_data['20w_sma'], \"bear\",\"bull\")\n",
    "processed_data['day_of_week'] = [date.day_name() for date in  processed_data.index.to_list()]\n",
    "processed_data['week_of_year'] = [date.weekofyear for date in  processed_data.index.to_list()]\n",
    "processed_data['week_of_year'] = [date.weekofyear for date in  processed_data.index.to_list()]\n",
    "processed_data['year_week_of_year'] = processed_data['year'].astype('str') + \"_\" + processed_data['week_of_year'].astype('str')"
   ]
  },
  {
   "cell_type": "code",
   "execution_count": null,
   "metadata": {},
   "outputs": [],
   "source": [
    "processed_data[8:20]"
   ]
  },
  {
   "cell_type": "code",
   "execution_count": null,
   "metadata": {},
   "outputs": [],
   "source": [
    "bear_data = processed_data[processed_data['market'] == 'bear'][['day_of_week','year_week_of_year','avg']]\n",
    "bear_data.head(10)"
   ]
  },
  {
   "cell_type": "code",
   "execution_count": null,
   "metadata": {},
   "outputs": [],
   "source": [
    "min_avg_per_week = bear_data.groupby('year_week_of_year').min('avg')\n",
    "min_avg_per_week.rename(columns = {\"avg\":\"min_weekly\"},inplace=True)\n",
    "min_avg_per_week.head()"
   ]
  },
  {
   "cell_type": "code",
   "execution_count": null,
   "metadata": {},
   "outputs": [],
   "source": [
    "joined = bear_data.join(min_avg_per_week, on = 'year_week_of_year')\n",
    "joined.head()"
   ]
  },
  {
   "cell_type": "code",
   "execution_count": null,
   "metadata": {},
   "outputs": [],
   "source": [
    "joined['is_min'] = np.where(joined['min_weekly'] == joined['avg'], True, False)\n",
    "joined.head(10)"
   ]
  },
  {
   "cell_type": "code",
   "execution_count": null,
   "metadata": {},
   "outputs": [],
   "source": [
    "best_days_bear = joined[joined['is_min']]['day_of_week'].value_counts()"
   ]
  },
  {
   "cell_type": "code",
   "execution_count": null,
   "metadata": {},
   "outputs": [],
   "source": [
    "best_days_bear"
   ]
  },
  {
   "cell_type": "code",
   "execution_count": null,
   "metadata": {},
   "outputs": [],
   "source": []
  }
 ],
 "metadata": {
  "kernelspec": {
   "display_name": "Python 3.10.0 ('btc-dca-eda-MSG1EnHX')",
   "language": "python",
   "name": "python3"
  },
  "language_info": {
   "codemirror_mode": {
    "name": "ipython",
    "version": 3
   },
   "file_extension": ".py",
   "mimetype": "text/x-python",
   "name": "python",
   "nbconvert_exporter": "python",
   "pygments_lexer": "ipython3",
   "version": "3.10.0"
  },
  "orig_nbformat": 4,
  "vscode": {
   "interpreter": {
    "hash": "374ad9e87d5dedfce6ec5d3d60c1d3bc9433ff49f9102c4d3e97aadd9ce87734"
   }
  }
 },
 "nbformat": 4,
 "nbformat_minor": 2
}
